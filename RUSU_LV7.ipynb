{
  "nbformat": 4,
  "nbformat_minor": 0,
  "metadata": {
    "colab": {
      "provenance": [],
      "gpuType": "T4"
    },
    "kernelspec": {
      "name": "python3",
      "display_name": "Python 3"
    },
    "language_info": {
      "name": "python"
    },
    "accelerator": "GPU"
  },
  "cells": [
    {
      "cell_type": "markdown",
      "source": [
        "# Sijamsko učenje\n",
        "\n",
        "Sijamsko učenje (*siamese learning*) je tehnika u strojnom učenju koja koristi paralelne neuronske mreže sa zajedničkim težinama kako bi naučile efikasnu reprezentaciju ulaznih podataka. Osnovna ideja sijamskog učenja je omogućiti mreži učenje sličnosti (*similarity learning*) između parova ulaznih primjera. Primjene uključuju prepoznavanje lica, prepoznavanje otiska prsta, verifikacija potpisa, grupiranje podataka, praćenje objekata u video zapisima itd.\n",
        "\n",
        "Sijamska mreža sastoji se od dvije identične mreže koje dijele težine. Te mreže primaju različite ulaze te generiraju reprezentacije u nižedimenzionlanom prostori (*embeddings*) za svaki od ulaza. Zatim se mjeri udaljenost između *embeddinga*.\n",
        "\n",
        "Prilikom treninga mreža treba naučiti generirati takve reprezentacije da je za ulaze iste klase (pozitivni parovi) udaljenost između reprezentacija mala, a za ulaze različitih klasa (negativni parovi) udaljenost između reprezentacija veća."
      ],
      "metadata": {
        "id": "oDvZZPYMRup9"
      }
    },
    {
      "cell_type": "markdown",
      "source": [
        "## Kontrastni gubitak (*constrastive loss*)\n",
        "\n",
        "Kontrastni gubitak definiran je na sljedeći način:\n",
        "$$L(x_1, x_2) = y * d(f(x_1), f(x_2)) + (1 - y) * max(0, m^2 - d(f(x_1), f(x_2)))$$\n",
        "\n",
        "$y$ je 1 ako su ulazne slike iste klase, 0 inače. $d(f(x_1), f(x_2))$ predstavlja udaljenost između *embeddinga* ulaznih slika. $m$ je proizvoljno odabrana margina, ako nam je udaljenost između reprezentacija negativnih parova veća od $m^2$, vrijednost funkcije gubitka će biti 0.\n",
        "\n",
        "Za mjeru udaljenosti se može koristiti L2 udaljenost:\n",
        "$$d(a, b) = \\sqrt{\\sum_{i=1}^n{(a_i - b_i)^2}}$$\n",
        "\n",
        "Kako bi udaljenost između reprezentacija bila ograničena, često se reprezentacije normaliziraju. Na ovaj način će sve reprezentacije biti točke na jediničnoj kružnici. Normiranje vektora:\n",
        "$$v_{norm} = \\frac{v}{||v||_2}$$"
      ],
      "metadata": {
        "id": "dnj7Avxylj8Z"
      }
    },
    {
      "cell_type": "markdown",
      "source": [
        "## Podatkovni skup\n",
        "\n",
        "Podatkovni skupovi za primjene za koje se koristi sijamsko učenje često imaju velik broj klasa i mali broj primjera za svaku klasu, stoga bi se nasumičnim odabiranjem parova dobio jako velik broj negativnih parova. Zbog ovoga bi mreža vrlo teško naučila raditi s pozitivnim parovima. Jedan od načina da se ovo riješi je da se generira takav podatkovni skup gdje je podjednak broj pozitivnih i negativnih parova.\n",
        "\n",
        "U nastavku je implementirano generiranje jednog ovakvog podatkovnog skupa na temelju [Omniglot](https://pytorch.org/vision/main/generated/torchvision.datasets.Omniglot.html) podatkovnog skupa."
      ],
      "metadata": {
        "id": "HRPrZlbDn6BG"
      }
    },
    {
      "cell_type": "code",
      "source": [
        "# Importing useful libraries\n",
        "import os\n",
        "import math\n",
        "import numpy as np\n",
        "import time\n",
        "import torch\n",
        "import torch.nn as nn\n",
        "import torch.nn.functional as F\n",
        "import torch.utils.data as data\n",
        "import torchvision.transforms as transforms\n",
        "import torchvision\n",
        "from torchsummary import summary\n",
        "\n",
        "import matplotlib.pyplot as plt\n",
        "from imageio.v2 import imread\n",
        "%matplotlib inline\n",
        "\n",
        "from tqdm.notebook import tqdm\n",
        "\n",
        "device = torch.device(\"cuda\") if torch.cuda.is_available() else torch.device(\"cpu\")\n",
        "print(\"Device\", device)\n",
        "\n",
        "from torch.utils.tensorboard import SummaryWriter\n",
        "\n",
        "%load_ext tensorboard"
      ],
      "metadata": {
        "id": "T5PQuVBZwGCI",
        "outputId": "e001b5c5-cbcb-4ab0-af54-64331e2e123e",
        "colab": {
          "base_uri": "https://localhost:8080/"
        }
      },
      "execution_count": 25,
      "outputs": [
        {
          "output_type": "stream",
          "name": "stdout",
          "text": [
            "Device cpu\n",
            "The tensorboard extension is already loaded. To reload it, use:\n",
            "  %reload_ext tensorboard\n"
          ]
        }
      ]
    },
    {
      "cell_type": "code",
      "source": [
        "batch_size = 128"
      ],
      "metadata": {
        "id": "087RYrMDwR_C"
      },
      "execution_count": 2,
      "outputs": []
    },
    {
      "cell_type": "code",
      "source": [
        "import random\n",
        "from torch.utils.data import DataLoader, Dataset\n",
        "\n",
        "class MatchedDataset(Dataset):\n",
        "  def __init__(self, original_dataset):\n",
        "    self.grouped = {}\n",
        "    self.size = len(original_dataset)\n",
        "    for i, c in original_dataset:\n",
        "      if c not in self.grouped:\n",
        "        self.grouped[c] = []\n",
        "      self.grouped[c].append(i)\n",
        "\n",
        "    self.classes = list(self.grouped.keys())\n",
        "\n",
        "  def __getitem__(self, index):\n",
        "    cls0 = random.choice(self.classes)\n",
        "    image0_idx = random.randint(0, len(self.grouped[cls0]) - 1)\n",
        "    image0 = self.grouped[cls0][image0_idx]\n",
        "    ## select random label, 1 for same class, 0 for different class\n",
        "    label = random.randint(0,1)\n",
        "    if label:\n",
        "      ## select a different image of the same class\n",
        "      while True:\n",
        "        image1_idx = random.randint(0, len(self.grouped[cls0]) - 1)\n",
        "        if image0_idx != image1_idx:\n",
        "          image1 = self.grouped[cls0][image1_idx]\n",
        "          break\n",
        "    else:\n",
        "      ## select a random image from a different class\n",
        "      while True:\n",
        "        cls1 = random.choice(self.classes)\n",
        "        if cls0 != cls1:\n",
        "          image1 = random.choice(self.grouped[cls1])\n",
        "          break\n",
        "\n",
        "    return image0, image1, label\n",
        "\n",
        "  def __len__(self):\n",
        "    return self.size"
      ],
      "metadata": {
        "id": "IDzKW4h53TVS"
      },
      "execution_count": 3,
      "outputs": []
    },
    {
      "cell_type": "code",
      "execution_count": 6,
      "metadata": {
        "id": "W0w3K3ykMyDX"
      },
      "outputs": [],
      "source": [
        "%%capture\n",
        "import torchvision.transforms as transforms\n",
        "from torchvision.datasets import Omniglot\n",
        "\n",
        "img_transform = transforms.Compose([\n",
        "    transforms.ToTensor()\n",
        "])\n",
        "\n",
        "train_original_dataset = Omniglot(root='./data/Omniglot', download=True, background=True, transform=img_transform)\n",
        "train_dataset = MatchedDataset(train_original_dataset)\n",
        "train_dataloader = DataLoader(train_dataset, batch_size=batch_size, shuffle=True)\n",
        "\n",
        "test_original_dataset = Omniglot(root='./data/Omniglot', download=True, background=False, transform=img_transform)\n",
        "test_dataset = MatchedDataset(test_original_dataset)\n",
        "test_dataloader = DataLoader(test_dataset, batch_size=batch_size, shuffle=True)"
      ]
    },
    {
      "cell_type": "code",
      "source": [
        "plt.imshow(next(iter(train_dataloader))[0][0].numpy().transpose(1, 2, 0))"
      ],
      "metadata": {
        "id": "82mdhjxKwT14",
        "outputId": "a77dfb72-7ef4-4a39-c495-3d7781d3a05a",
        "colab": {
          "base_uri": "https://localhost:8080/",
          "height": 451
        }
      },
      "execution_count": 5,
      "outputs": [
        {
          "output_type": "execute_result",
          "data": {
            "text/plain": [
              "<matplotlib.image.AxesImage at 0x7ac104ec48e0>"
            ]
          },
          "metadata": {},
          "execution_count": 5
        },
        {
          "output_type": "display_data",
          "data": {
            "text/plain": [
              "<Figure size 640x480 with 1 Axes>"
            ],
            "image/png": "[encoded data removed]"
          },
          "metadata": {}
        }
      ]
    },
    {
      "cell_type": "markdown",
      "source": [
        "## Zadaci\n",
        "\n",
        "1. Proučite podatkovni skup, prikažite primjere pozitivnih i negativnih parova.\n",
        "\n",
        "2. Prilagodite neuronsku mrežu iz 3. laboratorijske vježbe kako bi primala dvije slike iz Omniglot podatkovnog skupa i generirala reprezentacije tih ulaza. Za ovo je potrebno izbaciti posljednji, klasifikacijski, sloj te uklonite aktivacijsku funkciju novog posljednjeg sloja. Izlaze iz posljednjeg sloja [normalizirajte](https://pytorch.org/docs/stable/generated/torch.nn.functional.normalize.html).\n",
        "\n",
        "3. Implementirajte funkciju kontrastnog gubitka.\n",
        "\n",
        "4. Implementirajte funkciju za treniranje te trenirajte mrežu.\n",
        "\n",
        "5. Evaluirajte istreniranu mrežu na podacima za treniranje. Funkcija za evaluaciju treba računati točnost, preciznost i odziv. Prilikom evaluacije, potrebno je odabrati prag minimalne udaljenosti za koje će ulazne slike biti klasificirane kao različite. Evaluirajte mrežu s različitim vrijednostima te skicirajte vrijednosti točnosti, preciznosti i odziva u ovisnosti o pragu. Pomoću ove krivulje, odaberite optimalnu vrijednost praga za klasifikaciju."
      ],
      "metadata": {
        "id": "D1Ub3qVvp_-k"
      }
    },
    {
      "cell_type": "code",
      "source": [
        "def visualize_results(thresholds, results):\n",
        "  # thresholds is an array of values of the threshold, e.g. np.arange(0, 2, 0.1)\n",
        "  # results is an array of shape (len(thresholds), 3) where\n",
        "  # results[:,0] is the values of accuracy given the different thresholds\n",
        "  # and results[:,1] and results[:,2] are similarly values of precision and recall\n",
        "\n",
        "  fig, ax = plt.subplots()\n",
        "  ax.plot(thresholds, results[:,0], c='green', label='accuracy')\n",
        "  ax.plot(thresholds, results[:,1], c='blue', label='precision')\n",
        "  ax.plot(thresholds, results[:,2], c='orange', label='recall')\n",
        "  plt.legend(loc=\"lower right\")\n",
        "  plt.show()"
      ],
      "metadata": {
        "id": "NsiszX0nK8Hx"
      },
      "execution_count": 10,
      "outputs": []
    },
    {
      "cell_type": "code",
      "source": [
        "def visualize(model, dataloader, n = 6):\n",
        "  ## visualize some examples of input pairs and the distance between their embeddings\n",
        "  fig = plt.figure(constrained_layout=True, figsize=(4, 2.2*n))\n",
        "  subfigs = fig.subfigures(nrows=n, ncols=1)\n",
        "\n",
        "  for i in range(n):\n",
        "    data = next(iter(dataloader))\n",
        "    data_inputs1 = data[0][i].unsqueeze(0)\n",
        "    data_inputs2 = data[1][i].unsqueeze(0)\n",
        "    data_labels = data[2][i].unsqueeze(0)\n",
        "\n",
        "    data_inputs1 = data_inputs1.to(device)\n",
        "    data_inputs2 = data_inputs2.to(device)\n",
        "    data_labels = data_labels.to(device)\n",
        "\n",
        "    embedding1, embedding2 = model((data_inputs1, data_inputs2))\n",
        "    dist = torch.linalg.norm(embedding1 - embedding2, dim = 1)\n",
        "\n",
        "    subfig = subfigs[i]\n",
        "    subfig.suptitle('Distance: %.4f, Label: %d'%(dist, data_labels), size='small')\n",
        "    ax = subfig.subplots(nrows=1, ncols=2)\n",
        "    img1_ = data_inputs1[0].cpu().numpy().transpose(1, 2, 0)\n",
        "    ax[0].imshow(img1_)\n",
        "    img2_ = data_inputs2[0].cpu().numpy().transpose(1, 2, 0)\n",
        "    ax[1].imshow(img2_)\n",
        "  plt.show()"
      ],
      "metadata": {
        "id": "sQKctD-2S3jX"
      },
      "execution_count": 11,
      "outputs": []
    },
    {
      "cell_type": "code",
      "source": [
        "def show_pairs(dataloader, num_pairs=5):\n",
        "    fig, axes = plt.subplots(num_pairs, 2, figsize=(10, 2 * num_pairs))\n",
        "    fig.suptitle('Positive and Negative Pairs', fontsize=16)\n",
        "\n",
        "    for i in range(num_pairs):\n",
        "        pair_data = next(iter(dataloader))\n",
        "        img0, img1, label = pair_data\n",
        "\n",
        "        img0 = img0[0].numpy().transpose(1, 2, 0)\n",
        "        img1 = img1[0].numpy().transpose(1, 2, 0)\n",
        "\n",
        "        axes[i, 0].imshow(img0)\n",
        "        axes[i, 0].axis('off')\n",
        "\n",
        "        axes[i, 1].imshow(img1)\n",
        "        axes[i, 1].axis('off')\n",
        "\n",
        "    plt.show()\n",
        "\n",
        "show_pairs(train_dataloader)"
      ],
      "metadata": {
        "id": "5DNgh7rsuqVc",
        "outputId": "1d56b665-da54-4a6a-c602-ce0c756a16e3",
        "colab": {
          "base_uri": "https://localhost:8080/",
          "height": 907
        }
      },
      "execution_count": 12,
      "outputs": [
        {
          "output_type": "display_data",
          "data": {
            "text/plain": [
              "<Figure size 1000x1000 with 10 Axes>"
            ],
            "image/png": "[encoded data removed]"
          },
          "metadata": {}
        }
      ]
    },
    {
      "cell_type": "code",
      "source": [
        "class SiameseCNN(nn.Module):\n",
        "    def __init__(self):\n",
        "        super(SiameseCNN, self).__init__()\n",
        "        self.conv1 = nn.Conv2d(1, 16, kernel_size=3, stride=1, padding=1)\n",
        "        self.pool = nn.MaxPool2d(kernel_size=2, stride=2)\n",
        "        self.conv2 = nn.Conv2d(16, 32, kernel_size=3, stride=1, padding=1)\n",
        "        self.fc1 = nn.Linear(32 * 8 * 8, 64)\n",
        "        self.fc2 = nn.Linear(64, 10)\n",
        "\n",
        "    def forward(self, x1, x2):\n",
        "        x1 = self.pool(F.relu(self.conv1(x1)))\n",
        "        x1 = self.pool(F.relu(self.conv2(x1)))\n",
        "        x1 = x1.view(-1, 32 * 8 * 8)\n",
        "        x1 = F.relu(self.fc1(x1))\n",
        "\n",
        "        x2 = self.pool(F.relu(self.conv1(x2)))\n",
        "        x2 = self.pool(F.relu(self.conv2(x2)))\n",
        "        x2 = x2.view(-1, 32 * 8 * 8)\n",
        "        x2 = F.relu(self.fc1(x2))\n",
        "\n",
        "        return x1, x2"
      ],
      "metadata": {
        "id": "vmm4I6eSO5zr"
      },
      "execution_count": 14,
      "outputs": []
    },
    {
      "cell_type": "code",
      "source": [
        "import torch\n",
        "import torch.nn.functional as F\n",
        "\n",
        "def contrastive_loss(device, m=1):\n",
        "    def loss(embedding1, embedding2, label):\n",
        "        euclidean_distance = F.pairwise_distance(embedding1, embedding2)\n",
        "\n",
        "        loss_values = 0.5 * (1 - label) * torch.pow(euclidean_distance, 2) + \\\n",
        "                      0.5 * label * torch.pow(torch.clamp(m - euclidean_distance, min=0.0), 2)\n",
        "        return torch.mean(loss_values)\n",
        "\n",
        "    return loss\n",
        "\n",
        "loss_module = contrastive_loss(device, 1)\n",
        "result = loss_module(torch.Tensor([[1, 1, 1], [0, 1, 1]]).to(device), torch.Tensor([[1, 0.8, 0.9], [0, 0.5, 0.5]]).to(device), torch.Tensor([1, 0]).to(device))\n",
        "\n",
        "print(result.item())"
      ],
      "metadata": {
        "colab": {
          "base_uri": "https://localhost:8080/"
        },
        "id": "QwuV8pqJPPRM",
        "outputId": "0a8126a8-9cea-4651-fef3-b8c1eb1e9536"
      },
      "execution_count": 99,
      "outputs": [
        {
          "output_type": "stream",
          "name": "stdout",
          "text": [
            "0.2756965756416321\n"
          ]
        }
      ]
    },
    {
      "cell_type": "code",
      "source": [
        "def train_siamese_model(model, dataloader, criterion, optimizer, num_epochs=10, device=torch.device(\"cpu\")):\n",
        "    model.train()\n",
        "\n",
        "    for epoch in range(num_epochs):\n",
        "        running_loss = 0.0\n",
        "\n",
        "        for inputs1, inputs2, labels in dataloader:\n",
        "            inputs1, inputs2, labels = inputs1.to(device), inputs2.to(device), labels.to(device)\n",
        "\n",
        "            optimizer.zero_grad()\n",
        "\n",
        "            outputs1, outputs2 = model(inputs1, inputs2)\n",
        "\n",
        "            labels = labels.float().view(-1, 1)\n",
        "\n",
        "            loss = criterion(outputs1, outputs2, labels)\n",
        "\n",
        "            loss.backward()\n",
        "            optimizer.step()\n",
        "\n",
        "            running_loss += loss.item()\n",
        "\n",
        "        epoch_loss = running_loss / len(dataloader)\n",
        "        print(f\"Epoch {epoch + 1}/{num_epochs}, Loss: {epoch_loss:.4f}\")\n",
        "\n",
        "    print(\"Training finished\")\n",
        "\n",
        "siamese_model = SiameseCNN()\n",
        "siamese_model.to(device)\n",
        "\n",
        "contrastive_criterion = contrastive_loss(device, m=1)\n",
        "siamese_optimizer = torch.optim.Adam(siamese_model.parameters(), lr=0.001)\n",
        "\n",
        "train_siamese_model(siamese_model, train_dataloader, contrastive_criterion, siamese_optimizer, num_epochs=5)"
      ],
      "metadata": {
        "colab": {
          "base_uri": "https://localhost:8080/"
        },
        "id": "r7NB0UVDP_w5",
        "outputId": "5ddad0fa-e13d-4ec6-8b80-9ef64728f337"
      },
      "execution_count": 100,
      "outputs": [
        {
          "output_type": "stream",
          "name": "stdout",
          "text": [
            "Epoch 1/5, Loss: 0.1318\n",
            "Epoch 2/5, Loss: 0.1299\n",
            "Epoch 3/5, Loss: 0.1304\n",
            "Epoch 4/5, Loss: 0.1299\n",
            "Epoch 5/5, Loss: 0.1298\n",
            "Training finished\n"
          ]
        }
      ]
    },
    {
      "cell_type": "code",
      "source": [
        "def evaluate_siamese_model(model, dataloader, threshold_values, device=torch.device(\"cpu\")):\n",
        "    model.eval()\n",
        "    all_labels = []\n",
        "    all_distances = []\n",
        "\n",
        "    with torch.no_grad():\n",
        "        for inputs1, inputs2, labels in dataloader:\n",
        "            inputs1, inputs2, labels = inputs1.to(device), inputs2.to(device), labels.to(device)\n",
        "\n",
        "            embeddings1, embeddings2 = model(inputs1, inputs2)\n",
        "            distances = torch.linalg.norm(embeddings1 - embeddings2, dim=1).cpu().numpy()\n",
        "\n",
        "            all_labels.append(labels.cpu().numpy())\n",
        "            all_distances.extend(distances)\n",
        "\n",
        "    all_labels = np.concatenate(all_labels)\n",
        "    all_distances = np.array(all_distances)\n",
        "\n",
        "    results = []\n",
        "\n",
        "    for threshold in threshold_values:\n",
        "        predictions = (all_distances > threshold).astype(int)\n",
        "\n",
        "        print(f\"Shapes: predictions={predictions.shape}, all_labels={all_labels.shape}\")\n",
        "\n",
        "        # Pad binary_labels with zeros to match the length of predictions\n",
        "        binary_labels = np.pad((all_labels > 0.5).astype(int), (0, len(predictions) - len(all_labels)))\n",
        "\n",
        "        accuracy = np.mean(predictions == binary_labels)\n",
        "\n",
        "        true_positives = np.sum((predictions == 1) & (binary_labels == 1))\n",
        "        precision = true_positives / np.sum(predictions == 1) if np.sum(predictions == 1) != 0 else 0\n",
        "        recall = true_positives / np.sum(binary_labels == 1) if np.sum(binary_labels == 1) != 0 else 0\n",
        "\n",
        "        results.append([accuracy, precision, recall])\n",
        "\n",
        "    return np.array(results)\n",
        "\n",
        "threshold_values = np.arange(0, 2, 0.1)\n",
        "\n",
        "evaluation_results = evaluate_siamese_model(siamese_model, train_dataloader, threshold_values, device)\n",
        "\n",
        "visualize_results(threshold_values, evaluation_results)"
      ],
      "metadata": {
        "colab": {
          "base_uri": "https://localhost:8080/",
          "height": 777
        },
        "id": "CuNMjR62Qyaz",
        "outputId": "1df3c1a4-6bcd-44b2-80cb-53a5914da9d5"
      },
      "execution_count": 107,
      "outputs": [
        {
          "output_type": "stream",
          "name": "stdout",
          "text": [
            "Shapes: predictions=(203645,), all_labels=(19280,)\n",
            "Shapes: predictions=(203645,), all_labels=(19280,)\n",
            "Shapes: predictions=(203645,), all_labels=(19280,)\n",
            "Shapes: predictions=(203645,), all_labels=(19280,)\n",
            "Shapes: predictions=(203645,), all_labels=(19280,)\n",
            "Shapes: predictions=(203645,), all_labels=(19280,)\n",
            "Shapes: predictions=(203645,), all_labels=(19280,)\n",
            "Shapes: predictions=(203645,), all_labels=(19280,)\n",
            "Shapes: predictions=(203645,), all_labels=(19280,)\n",
            "Shapes: predictions=(203645,), all_labels=(19280,)\n",
            "Shapes: predictions=(203645,), all_labels=(19280,)\n",
            "Shapes: predictions=(203645,), all_labels=(19280,)\n",
            "Shapes: predictions=(203645,), all_labels=(19280,)\n",
            "Shapes: predictions=(203645,), all_labels=(19280,)\n",
            "Shapes: predictions=(203645,), all_labels=(19280,)\n",
            "Shapes: predictions=(203645,), all_labels=(19280,)\n",
            "Shapes: predictions=(203645,), all_labels=(19280,)\n",
            "Shapes: predictions=(203645,), all_labels=(19280,)\n",
            "Shapes: predictions=(203645,), all_labels=(19280,)\n",
            "Shapes: predictions=(203645,), all_labels=(19280,)\n"
          ]
        },
        {
          "output_type": "display_data",
          "data": {
            "text/plain": [
              "<Figure size 640x480 with 1 Axes>"
            ],
            "image/png": "[encoded data removed]"
          },
          "metadata": {}
        }
      ]
    }
  ]
}